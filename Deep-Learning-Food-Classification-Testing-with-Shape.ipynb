{
 "cells": [
  {
   "cell_type": "code",
   "execution_count": 1,
   "metadata": {
    "_cell_guid": "b1076dfc-b9ad-4769-8c92-a6c4dae69d19",
    "_uuid": "8f2839f25d086af736a60e9eeb907d3b93b6e0e5"
   },
   "outputs": [],
   "source": [
    "# Importing modules \n",
    "import numpy as np \n",
    "import pandas as pd \n",
    "import os\n",
    "import matplotlib.pyplot as plt\n",
    "import cv2\n",
    "\n",
    "from keras.utils import to_categorical\n",
    "from keras.layers import Dense,Conv2D,Flatten,MaxPool2D,Dropout,Activation,MaxPooling2D\n",
    "from keras.models import Sequential\n",
    "from keras.models import load_model\n",
    "from sklearn.model_selection import train_test_split\n",
    "\n",
    "np.random.seed(1)"
   ]
  },
  {
   "cell_type": "code",
   "execution_count": null,
   "metadata": {},
   "outputs": [],
   "source": []
  },
  {
   "cell_type": "code",
   "execution_count": 2,
   "metadata": {},
   "outputs": [
    {
     "ename": "IndexError",
     "evalue": "list index out of range",
     "output_type": "error",
     "traceback": [
      "\u001b[1;31m---------------------------------------------------------------------------\u001b[0m",
      "\u001b[1;31mIndexError\u001b[0m                                Traceback (most recent call last)",
      "\u001b[1;32m<ipython-input-2-5d1239a67e68>\u001b[0m in \u001b[0;36m<module>\u001b[1;34m\u001b[0m\n\u001b[0;32m      9\u001b[0m \u001b[1;33m\u001b[0m\u001b[0m\n\u001b[0;32m     10\u001b[0m \u001b[1;32mfor\u001b[0m \u001b[0mfilename\u001b[0m \u001b[1;32min\u001b[0m \u001b[0mos\u001b[0m\u001b[1;33m.\u001b[0m\u001b[0mlistdir\u001b[0m\u001b[1;33m(\u001b[0m\u001b[0mtrain_path\u001b[0m\u001b[1;33m)\u001b[0m\u001b[1;33m:\u001b[0m\u001b[1;33m\u001b[0m\u001b[1;33m\u001b[0m\u001b[0m\n\u001b[1;32m---> 11\u001b[1;33m     \u001b[1;32mif\u001b[0m \u001b[0mfilename\u001b[0m\u001b[1;33m.\u001b[0m\u001b[0msplit\u001b[0m\u001b[1;33m(\u001b[0m\u001b[1;34m'.'\u001b[0m\u001b[1;33m)\u001b[0m\u001b[1;33m[\u001b[0m\u001b[1;36m1\u001b[0m\u001b[1;33m]\u001b[0m \u001b[1;33m==\u001b[0m \u001b[1;34m'jpg'\u001b[0m\u001b[1;33m:\u001b[0m\u001b[1;33m\u001b[0m\u001b[1;33m\u001b[0m\u001b[0m\n\u001b[0m\u001b[0;32m     12\u001b[0m         \u001b[0mimg\u001b[0m \u001b[1;33m=\u001b[0m \u001b[0mcv2\u001b[0m\u001b[1;33m.\u001b[0m\u001b[0mimread\u001b[0m\u001b[1;33m(\u001b[0m\u001b[0mos\u001b[0m\u001b[1;33m.\u001b[0m\u001b[0mpath\u001b[0m\u001b[1;33m.\u001b[0m\u001b[0mjoin\u001b[0m\u001b[1;33m(\u001b[0m\u001b[0mtrain_path\u001b[0m\u001b[1;33m,\u001b[0m\u001b[0mfilename\u001b[0m\u001b[1;33m)\u001b[0m\u001b[1;33m)\u001b[0m\u001b[1;33m\u001b[0m\u001b[1;33m\u001b[0m\u001b[0m\n\u001b[0;32m     13\u001b[0m \u001b[1;33m\u001b[0m\u001b[0m\n",
      "\u001b[1;31mIndexError\u001b[0m: list index out of range"
     ]
    }
   ],
   "source": [
    "# Processing training data\n",
    "# -> appending images in a list 'train_images'\n",
    "# -> appending labels in a list 'train_labels'\n",
    "\n",
    "train_images = []       \n",
    "train_labels = []\n",
    "shape = (100,100)  \n",
    "train_path = 'Data/train'\n",
    "\n",
    "for filename in os.listdir(train_path):\n",
    "    if filename.split('.')[1] == 'jpg':\n",
    "        img = cv2.imread(os.path.join(train_path,filename))\n",
    "        \n",
    "        try:\n",
    "            # Resize all images to a specific shape\n",
    "            img = cv2.resize(img,shape)\n",
    "\n",
    "            # Spliting file names and storing the labels for image in list\n",
    "            train_labels.append(filename.split('_')[0])\n",
    "\n",
    "            train_images.append(img)\n",
    "        except:\n",
    "            pass\n",
    "# Converting labels into One Hot encoded sparse matrix\n",
    "train_labels = pd.get_dummies(train_labels).values\n",
    "\n",
    "# Converting train_images to array\n",
    "train_images = np.array(train_images)\n",
    "\n",
    "no_of_classes = len(train_labels[0])        \n",
    "\n",
    "# Splitting Training data into train and validation dataset\n",
    "x_train,x_val,y_train,y_val = train_test_split(train_images,train_labels,random_state=1)"
   ]
  },
  {
   "cell_type": "code",
   "execution_count": null,
   "metadata": {},
   "outputs": [],
   "source": [
    "# Processing testing data\n",
    "# -> appending images in a list 'test_images'\n",
    "# -> appending labels in a list 'test_labels'\n",
    "# The test data contains labels as well also we are appending it to a list but we are'nt going to use it while training.\n",
    "\n",
    "test_images = []\n",
    "test_labels = []\n",
    "test_path = 'Data/test'\n",
    "\n",
    "for filename in os.listdir(test_path):\n",
    "    if filename.split('.')[1] == 'jpg':\n",
    "        img = cv2.imread(os.path.join(test_path,filename))\n",
    "        \n",
    "        # Spliting file names and storing the labels for image in list\n",
    "        test_labels.append(filename.split('_')[0])\n",
    "        \n",
    "        # Resize all images to a specific shape\n",
    "        img = cv2.resize(img,shape)\n",
    "        \n",
    "        test_images.append(img)\n",
    "# Converting test_images to array\n",
    "test_images = np.array(test_images)"
   ]
  },
  {
   "cell_type": "code",
   "execution_count": null,
   "metadata": {},
   "outputs": [],
   "source": [
    "# Visualizing Training data\n",
    "print(train_labels[0])\n",
    "plt.imshow(train_images[0])"
   ]
  },
  {
   "cell_type": "code",
   "execution_count": null,
   "metadata": {},
   "outputs": [],
   "source": [
    "train_labels"
   ]
  },
  {
   "cell_type": "code",
   "execution_count": null,
   "metadata": {},
   "outputs": [],
   "source": [
    "def show_image(index):\n",
    "    print(train_labels[index])\n",
    "    #plt.imshow(test_images[index])\n",
    "    cv2.imshow('win',train_images[index])\n",
    "    cv2.waitKey(0)\n",
    "    cv2.destroyAllWindows()\n",
    "show_image(138)"
   ]
  },
  {
   "cell_type": "code",
   "execution_count": null,
   "metadata": {},
   "outputs": [],
   "source": [
    "# Visualizing Training data\n",
    "print(train_labels[4])\n",
    "plt.imshow(train_images[4])"
   ]
  },
  {
   "cell_type": "code",
   "execution_count": null,
   "metadata": {},
   "outputs": [],
   "source": [
    "#Building model 1 using customized convolutional and pooling layers\n",
    "\n",
    "model = Sequential()\n",
    "\n",
    "#input_shape is 100*100 since thats the dimension of each of the fruit images\n",
    "model.add(Conv2D(filters = 32, kernel_size = 2,input_shape=(100,100,3),padding='same'))\n",
    "model.add(Activation('relu'))\n",
    "model.add(MaxPooling2D(pool_size=2))\n",
    "\n",
    "model.add(Conv2D(filters = 32,kernel_size = 2,activation= 'tanh',))\n",
    "model.add(MaxPooling2D(pool_size=2))\n",
    "\n",
    "model.add(Conv2D(filters = 64,kernel_size = 2,activation= 'tanh',padding='same'))\n",
    "model.add(MaxPooling2D(pool_size=2))\n",
    "\n",
    "model.add(Conv2D(filters = 128,kernel_size = 2,activation= 'relu',padding='same'))\n",
    "model.add(MaxPooling2D(pool_size=2))\n",
    "\n",
    "# specifying parameters for fully connected layer\n",
    "model.add(Dropout(0.5))\n",
    "model.add(Flatten())\n",
    "model.add(Dense(150,activation= 'relu'))\n",
    "model.add(Dense(75,activation= 'relu'))\n",
    "\n",
    "model.add(Dropout(0.6))\n",
    "model.add(Dense(no_of_classes,activation = 'softmax'))\n"
   ]
  },
  {
   "cell_type": "code",
   "execution_count": null,
   "metadata": {},
   "outputs": [],
   "source": [
    "# Model Summary\n",
    "model.summary()"
   ]
  },
  {
   "cell_type": "markdown",
   "metadata": {},
   "source": [
    "## Training takes 10 minutes     Hold your horses!!!!!"
   ]
  },
  {
   "cell_type": "code",
   "execution_count": null,
   "metadata": {},
   "outputs": [],
   "source": [
    "from keras.optimizers import SGD, Adam, RMSprop\n",
    "\n",
    "optimizer = Adam()\n",
    "model.compile(loss='categorical_crossentropy',\n",
    "              optimizer=optimizer,\n",
    "              metrics=['accuracy'])"
   ]
  },
  {
   "cell_type": "code",
   "execution_count": null,
   "metadata": {},
   "outputs": [],
   "source": [
    "# fitting model using above defined layers \n",
    "CNN_model = model.fit(x_train,y_train,epochs=50,batch_size=50,validation_data=(x_val,y_val),\n",
    "        verbose=2, shuffle=True)"
   ]
  },
  {
   "cell_type": "code",
   "execution_count": null,
   "metadata": {},
   "outputs": [],
   "source": [
    "# summarize history for accuracy\n",
    "plt.plot(CNN_model.history['accuracy'])\n",
    "plt.plot(CNN_model.history['val_accuracy'])\n",
    "plt.title('model accuracy')\n",
    "plt.ylabel('accuracy')\n",
    "plt.xlabel('epoch')\n",
    "plt.legend(['train', 'test'], loc='upper left')\n",
    "plt.show()"
   ]
  },
  {
   "cell_type": "code",
   "execution_count": null,
   "metadata": {},
   "outputs": [],
   "source": [
    "# summarize history for loss\n",
    "plt.plot(CNN_model.history['loss'])\n",
    "plt.plot(CNN_model.history['val_loss'])\n",
    "plt.title('model loss')\n",
    "plt.ylabel('loss')\n",
    "plt.xlabel('epoch')\n",
    "plt.legend(['train', 'test'], loc='upper left')\n",
    "plt.show()"
   ]
  },
  {
   "cell_type": "code",
   "execution_count": null,
   "metadata": {},
   "outputs": [],
   "source": [
    "#Saving the model\n",
    "model.save('newmodel.h5')\n",
    "model.save('FoodApp/newmodel.h5')\n",
    "\n",
    "#loss: 0.0928 - acc: 0.9333 - val_loss: 0.7667 - val_acc: 0.8333\n"
   ]
  },
  {
   "cell_type": "code",
   "execution_count": null,
   "metadata": {},
   "outputs": [],
   "source": [
    "#Loading the model\n",
    "model = load_model('newmodel.h5')\n",
    "history  = CNN_model"
   ]
  },
  {
   "cell_type": "code",
   "execution_count": null,
   "metadata": {},
   "outputs": [],
   "source": [
    "# Evaluating model on validation data\n",
    "evaluate = model.evaluate(x_val,y_val)\n",
    "print(evaluate)"
   ]
  },
  {
   "cell_type": "code",
   "execution_count": null,
   "metadata": {},
   "outputs": [],
   "source": [
    "output = {0:'apple',1:'banana',2:'dragonfruit',3:'kiwi',4:'lemon',5:'orange'}\n"
   ]
  },
  {
   "cell_type": "code",
   "execution_count": null,
   "metadata": {},
   "outputs": [],
   "source": []
  },
  {
   "cell_type": "code",
   "execution_count": null,
   "metadata": {},
   "outputs": [],
   "source": [
    "# Testing predictions and the actual label\n",
    "checkImage = test_images[0:1]\n",
    "checklabel = test_labels[0:1]\n",
    "\n",
    "predict = model.predict(np.array(checkImage))\n",
    "\n",
    "\n",
    "print(\"Actual :- \",checklabel)\n",
    "print(\"Predicted :- \",output[np.argmax(predict)])"
   ]
  },
  {
   "cell_type": "markdown",
   "metadata": {},
   "source": [
    "# Testing by Ramkishor"
   ]
  },
  {
   "cell_type": "code",
   "execution_count": null,
   "metadata": {},
   "outputs": [],
   "source": [
    "def show_image(index):\n",
    "    print(test_labels[index])\n",
    "    #plt.imshow(test_images[index])\n",
    "    cv2.imshow('win',test_images[index])\n",
    "    cv2.waitKey(0)\n",
    "    cv2.destroyAllWindows()"
   ]
  },
  {
   "cell_type": "code",
   "execution_count": null,
   "metadata": {},
   "outputs": [],
   "source": [
    "# Testing predictions and the actual label\n",
    "def test(index):\n",
    "    checkImage = test_images[index:index+1]\n",
    "    checklabel = test_labels[index:index+1]\n",
    "\n",
    "    predict = model.predict(np.array(checkImage))\n",
    "\n",
    "    #print(\"Actual :- \",checklabel)\n",
    "    #print(\"Predicted :- \",output[np.argmax(predict)])\n",
    "    \n",
    "    return checklabel,output[np.argmax(predict)]\n",
    "    #show_image(index)\n"
   ]
  },
  {
   "cell_type": "code",
   "execution_count": null,
   "metadata": {},
   "outputs": [],
   "source": [
    "correct_count = 0\n",
    "incorrect_count = 0\n",
    "for i in range(10,len(test_images)):\n",
    "    Actual,Predicted = test(i)\n",
    "\n",
    "    \n",
    "    if Actual[0] == Predicted:\n",
    "        correct_count+=1\n",
    "        #print(f\"{Actual[0]} is predicted as {Predicted}\")\n",
    "        #show_image(i)\n",
    "    else:\n",
    "        incorrect_count+=1\n",
    "        #print(f\"{Actual[0]} is predicted as {Predicted}\")\n",
    "        #show_image(i)\n",
    "print()\n",
    "print(f\"correct_count = {correct_count}\")\n",
    "print(f\"incorrect_count = {incorrect_count}\")"
   ]
  },
  {
   "cell_type": "code",
   "execution_count": null,
   "metadata": {},
   "outputs": [],
   "source": [
    "NewTestPath = 'Data/NewTestData'\n",
    "my_test_images=[]\n",
    "my_test_labels=[]\n",
    "\n",
    "for filename in os.listdir(NewTestPath):\n",
    "        img = cv2.imread(os.path.join(NewTestPath,filename))\n",
    "        \n",
    "        # Resize all images to a specific shape\n",
    "        img = cv2.resize(img,shape)\n",
    "                \n",
    "        # Spliting file names and storing the labels for image in list\n",
    "        my_test_labels.append(filename.split('_')[0])\n",
    "        \n",
    "\n",
    "        my_test_images.append(img)\n",
    "\n",
    "\n",
    "def test(index):\n",
    "    checkImage = my_test_images[index:index+1]\n",
    "    Actual = my_test_labels[index]\n",
    "    predict = model.predict(np.array(checkImage))\n",
    "\n",
    "    #print(\"Actual :- \",checklabel)\n",
    "    #print(\"Predicted :- \",output[np.argmax(predict)])\n",
    "    \n",
    "    return Actual,output[np.argmax(predict)]\n",
    "    #show_image(index)\n",
    "def show_image(index):\n",
    "    #plt.imshow(test_images[index])\n",
    "    cv2.imshow('win',my_test_images[i])\n",
    "    cv2.waitKey(0)\n",
    "    cv2.destroyAllWindows()\n",
    "\n",
    "\n",
    "for i in range(len(my_test_images)):\n",
    "    Actual,Predicted = test(i)\n",
    "    print(f\"{Actual} is predicted as {Predicted}\")\n",
    "    #show_image(i)"
   ]
  },
  {
   "cell_type": "code",
   "execution_count": null,
   "metadata": {},
   "outputs": [],
   "source": []
  },
  {
   "cell_type": "code",
   "execution_count": null,
   "metadata": {},
   "outputs": [],
   "source": []
  },
  {
   "cell_type": "code",
   "execution_count": null,
   "metadata": {},
   "outputs": [],
   "source": []
  },
  {
   "cell_type": "code",
   "execution_count": null,
   "metadata": {},
   "outputs": [],
   "source": []
  }
 ],
 "metadata": {
  "kernelspec": {
   "display_name": "Python 3",
   "language": "python",
   "name": "python3"
  },
  "language_info": {
   "codemirror_mode": {
    "name": "ipython",
    "version": 3
   },
   "file_extension": ".py",
   "mimetype": "text/x-python",
   "name": "python",
   "nbconvert_exporter": "python",
   "pygments_lexer": "ipython3",
   "version": "3.7.5"
  }
 },
 "nbformat": 4,
 "nbformat_minor": 1
}
